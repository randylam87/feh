{
 "cells": [
  {
   "cell_type": "code",
   "execution_count": 92,
   "metadata": {},
   "outputs": [],
   "source": [
    "import requests\n",
    "from bs4 import BeautifulSoup\n",
    "from pprint import pprint\n",
    "import json"
   ]
  },
  {
   "cell_type": "code",
   "execution_count": 115,
   "metadata": {},
   "outputs": [],
   "source": [
    "class Hero:\n",
    "  def __init__(self, name, epithet, weapon_type, movement_type, stats1, release_date):\n",
    "    self.name = name\n",
    "    self.epithet = epithet\n",
    "    self.weapon_type = weapon_type\n",
    "    self.movement_type = movement_type\n",
    "    self.stats1 = stats1\n",
    "    self.release_date = release_date\n",
    "    \n",
    "  def getBST(self):\n",
    "    print('will do later lol')\n",
    "\n",
    "  def get_info(self):\n",
    "    print('Name:', self.name)\n",
    "    print('Epithet:', self.epithet)\n",
    "    print('Weapon Type:', self.weapon_type)\n",
    "    print('Movement Type:', self.movement_type)\n",
    "    print('Lv 1 Stats:')\n",
    "    pprint(self.stats1)\n",
    "    print('Release Date:', self.release_date)"
   ]
  },
  {
   "cell_type": "code",
   "execution_count": 56,
   "metadata": {},
   "outputs": [
    {
     "name": "stdout",
     "output_type": "stream",
     "text": [
      "200\n"
     ]
    }
   ],
   "source": [
    "url = 'https://feheroes.gamepedia.com/Hero_list'\n",
    "page = requests.get(url)\n",
    "print(page.status_code)\n",
    "soup = BeautifulSoup(page.text, 'html.parser')\n",
    "table_rows = soup.find('table').findAll('tr')"
   ]
  },
  {
   "cell_type": "code",
   "execution_count": 68,
   "metadata": {},
   "outputs": [],
   "source": [
    "list = [];\n",
    "for row in table_rows:\n",
    "    route = row.find('a', href = True)\n",
    "    list.append(f'https://feheroes.gamepedia.com{route[\"href\"]}')"
   ]
  },
  {
   "cell_type": "code",
   "execution_count": 183,
   "metadata": {},
   "outputs": [
    {
     "name": "stdout",
     "output_type": "stream",
     "text": [
      "Virion Elite Archer Colorless bow Infantry 2017-02-02\n"
     ]
    }
   ],
   "source": [
    "# url = list[0]\n",
    "page = requests.get(url)\n",
    "soup = BeautifulSoup(page.text, 'html.parser')\n",
    "result = soup.find(\"table\", {\"id\": \"boxshadow\"}).findAll('span')\n",
    "name = result[0].text\n",
    "epithet = result[1].text\n",
    "weapon_type = result[6].text\n",
    "movement_type = result[8].text\n",
    "release_date = soup.find(\"table\", {\"id\": \"boxshadow\"}).find('time').text\n",
    "print(name, epithet, weapon_type, movement_type, release_date)"
   ]
  },
  {
   "cell_type": "code",
   "execution_count": 186,
   "metadata": {},
   "outputs": [
    {
     "name": "stdout",
     "output_type": "stream",
     "text": [
      "3\n",
      "15/16/17\n",
      "5/6/7\n",
      "6/7/8\n",
      "6/7/8\n",
      "4/5/6\n",
      "4\n",
      "15/16/17\n",
      "5/6/7\n",
      "7/8/9\n",
      "7/8/9\n",
      "4/5/6\n",
      "5\n",
      "16/17/18\n",
      "6/7/8\n",
      "7/8/9\n",
      "7/8/9\n",
      "5/6/7\n",
      "3\n",
      "32/35/38\n",
      "26/29/32\n",
      "25/28/31\n",
      "19/22/25\n",
      "19/22/25\n",
      "4\n",
      "33/36/39\n",
      "27/30/33\n",
      "27/30/33\n",
      "21/24/27\n",
      "20/23/26\n",
      "5\n",
      "35/39/42\n",
      "30/33/36\n",
      "29/32/35\n",
      "22/25/28\n",
      "22/25/29\n"
     ]
    }
   ],
   "source": [
    "url = list[0]\n",
    "page = requests.get(url)\n",
    "soup = BeautifulSoup(page.text, 'html.parser')\n",
    "result = soup.findAll(\"table\", {\"class\": \"wikitable default\"})\n",
    "for stat_table in range(0, 2):\n",
    "    table_rows = result[stat_table].findAll('tr')\n",
    "    for row in range(1, len(table_rows)):\n",
    "        rarity = table_rows[row].findAll('td')\n",
    "        length = len(result) - 1\n",
    "        for stat in range(0, 6):\n",
    "            print(rarity[stat].text)"
   ]
  },
  {
   "cell_type": "code",
   "execution_count": 116,
   "metadata": {},
   "outputs": [
    {
     "name": "stdout",
     "output_type": "stream",
     "text": [
      "Name: Abel\n",
      "Epithet: The Panther\n",
      "Weapon Type: Lance\n",
      "Movement Type: Cavalry\n",
      "Lv 1 Stats:\n",
      "{'3': {'Atk': [5, 6, 7],\n",
      "       'Def': [6, 7, 8],\n",
      "       'HP': [15, 16, 17],\n",
      "       'Res': [4, 5, 6],\n",
      "       'Spd': [6, 7, 8]}}\n",
      "Release Date: 2017-02-02\n"
     ]
    }
   ],
   "source": [
    "# Abel = Hero('Abel', 'The Panther', 'Lance', 'Cavalry', {'3': {'HP': [15, 16, 17], 'Atk': [5, 6, 7], 'Spd': [6,7,8], 'Def': [6,7,8], 'Res': [4,5,6]}}, '2017-02-02')\n",
    "# Abel.get_info()"
   ]
  },
  {
   "cell_type": "code",
   "execution_count": null,
   "metadata": {},
   "outputs": [],
   "source": []
  },
  {
   "cell_type": "code",
   "execution_count": null,
   "metadata": {},
   "outputs": [],
   "source": []
  }
 ],
 "metadata": {
  "kernelspec": {
   "display_name": "Python 3",
   "language": "python",
   "name": "python3"
  },
  "language_info": {
   "codemirror_mode": {
    "name": "ipython",
    "version": 3
   },
   "file_extension": ".py",
   "mimetype": "text/x-python",
   "name": "python",
   "nbconvert_exporter": "python",
   "pygments_lexer": "ipython3",
   "version": "3.6.5"
  }
 },
 "nbformat": 4,
 "nbformat_minor": 2
}
